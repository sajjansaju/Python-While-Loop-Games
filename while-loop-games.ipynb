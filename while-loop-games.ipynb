{
 "cells": [
  {
   "cell_type": "markdown",
   "id": "5d0028af-193d-4a07-9693-49b249115738",
   "metadata": {},
   "source": [
    "## 🕹️ Game 1: Number Guessing with Hints\n",
    "\n",
    "**Rules:**\n",
    "- Secret number is between 1 and 20.\n",
    "- Player has 5 chances to guess the number.\n",
    "- After each wrong guess:\n",
    "  - Print “Too high” or “Too low” based on the guess.\n",
    "- If guessed correctly, print “You won!” and end the game.\n",
    "- If all chances are used, print “Sorry, you lost. The number was X.”\n"
   ]
  },
  {
   "cell_type": "code",
   "execution_count": 2,
   "id": "7bf4c0aa-0f53-410f-bbfe-2e136842517a",
   "metadata": {},
   "outputs": [
    {
     "name": "stdin",
     "output_type": "stream",
     "text": [
      "guess the secret no between 1 and 20: 8\n"
     ]
    },
    {
     "name": "stdout",
     "output_type": "stream",
     "text": [
      "Too high\n"
     ]
    },
    {
     "name": "stdin",
     "output_type": "stream",
     "text": [
      "guess the secret no between 1 and 20: 4\n"
     ]
    },
    {
     "name": "stdout",
     "output_type": "stream",
     "text": [
      "Too low\n"
     ]
    },
    {
     "name": "stdin",
     "output_type": "stream",
     "text": [
      "guess the secret no between 1 and 20: 9\n"
     ]
    },
    {
     "name": "stdout",
     "output_type": "stream",
     "text": [
      "Too high\n"
     ]
    },
    {
     "name": "stdin",
     "output_type": "stream",
     "text": [
      "guess the secret no between 1 and 20: 7\n"
     ]
    },
    {
     "name": "stdout",
     "output_type": "stream",
     "text": [
      "you won!\n"
     ]
    }
   ],
   "source": [
    "secret_no = 7\n",
    "initial_guess = 0\n",
    "total_chances = 5\n",
    "while initial_guess < total_chances:\n",
    "    guessed_no = int(input(\"guess the secret no between 1 and 20:\"))\n",
    "    initial_guess += 1\n",
    "    if guessed_no == secret_no:\n",
    "        print(\"you won!\")\n",
    "        break\n",
    "    elif guessed_no < secret_no:\n",
    "        print(\"Too low\")\n",
    "    else:\n",
    "        print(\"Too high\")\n",
    "else:\n",
    "    print(f'Sorry, you lost. The secret number was {secret_no}')"
   ]
  },
  {
   "cell_type": "markdown",
   "id": "9c2c0847-cfce-445f-9539-e383c290a039",
   "metadata": {},
   "source": [
    "## 🔒 Game 2: Password Lock\n",
    "\n",
    "**Rules**\n",
    "- The correct password is open123.\n",
    "- The player gets **3 attempts** to enter the correct password.\n",
    "- After each wrong attempt:\n",
    "  - Show Incorrect password. Try again. (except on the last attempt).\n",
    "- If the password is correct:\n",
    "  - Show Unlocked successfully! and exit.\n",
    "- If all 3 attempts are used and the password is incorrect:\n",
    "  - Show Too many incorrect attempts. Locked out!"
   ]
  },
  {
   "cell_type": "code",
   "execution_count": 12,
   "id": "fd38ad7d-03fc-4c48-9418-4336630480a0",
   "metadata": {},
   "outputs": [
    {
     "name": "stdin",
     "output_type": "stream",
     "text": [
      " Enter the password: open123\n"
     ]
    },
    {
     "name": "stdout",
     "output_type": "stream",
     "text": [
      "Unlocked successfully!\n"
     ]
    }
   ],
   "source": [
    "password = \"open123\"\n",
    "i = 0\n",
    "no_of_chances = 3\n",
    "\n",
    "while i<no_of_chances:\n",
    "    guessed_password = input(\" Enter the password:\")\n",
    "    i += 1\n",
    "    if guessed_password == password:\n",
    "        print(\"Unlocked successfully!\")\n",
    "        break\n",
    "    elif i<no_of_chances:\n",
    "        print(\"Incorrect password. Try again.\")\n",
    "    else:\n",
    "        print(\"Incorrect password\")\n",
    "else:\n",
    "    print(\"Too many incorrect attempts. Locked out!\")"
   ]
  },
  {
   "cell_type": "markdown",
   "id": "1ada928f-153d-44f3-a127-122b94456975",
   "metadata": {},
   "source": [
    "## 🚗 Game 3: Car Simulator\n",
    "\n",
    "**Rules**\n",
    "- The game runs in an infinite loop until the user types `quit`.\n",
    "- The car can only be started once; trying to start it again will show a message.\n",
    "- Similarly, the car can only be stopped if it was already started.\n",
    "- Typing `help` shows a list of available commands.\n",
    "- Any invalid command shows a friendly error message."
   ]
  },
  {
   "cell_type": "code",
   "execution_count": 27,
   "id": "19e13cc7-662c-416d-8c4f-fe8af9df006b",
   "metadata": {},
   "outputs": [
    {
     "name": "stdin",
     "output_type": "stream",
     "text": [
      "> stop\n"
     ]
    },
    {
     "name": "stdout",
     "output_type": "stream",
     "text": [
      "car is already stopped\n"
     ]
    },
    {
     "name": "stdin",
     "output_type": "stream",
     "text": [
      "> start\n"
     ]
    },
    {
     "name": "stdout",
     "output_type": "stream",
     "text": [
      "car started.... ready to go\n"
     ]
    },
    {
     "name": "stdin",
     "output_type": "stream",
     "text": [
      "> stop\n"
     ]
    },
    {
     "name": "stdout",
     "output_type": "stream",
     "text": [
      "car stopped\n"
     ]
    },
    {
     "name": "stdin",
     "output_type": "stream",
     "text": [
      "> stop\n"
     ]
    },
    {
     "name": "stdout",
     "output_type": "stream",
     "text": [
      "car is already stopped\n"
     ]
    },
    {
     "name": "stdin",
     "output_type": "stream",
     "text": [
      "> gag\n"
     ]
    },
    {
     "name": "stdout",
     "output_type": "stream",
     "text": [
      "sorry i don't understand\n"
     ]
    },
    {
     "name": "stdin",
     "output_type": "stream",
     "text": [
      "> quit\n"
     ]
    }
   ],
   "source": [
    "command = \"\"\n",
    "started = False\n",
    "while True:\n",
    "    command = input(\">\").lower()\n",
    "    if command == \"start\":\n",
    "        if started:\n",
    "            print(\"car is already started\")\n",
    "        else:\n",
    "            started =True\n",
    "            print(\"car started.... ready to go\")\n",
    "    elif command == \"stop\":\n",
    "        if started:\n",
    "            started = False\n",
    "            print(\"car stopped\")\n",
    "        else:\n",
    "            print(\"car is already stopped\")\n",
    "    elif command == \"help\" :\n",
    "        print(\"\"\"\n",
    "start - to start the car\n",
    "stop - to stop the car\n",
    "quit - to quit \n",
    "\"\"\")\n",
    "    elif command == \"quit\":\n",
    "        break\n",
    "    else:\n",
    "        print(\"sorry i don't understand\")\n",
    "        \n",
    "    "
   ]
  },
  {
   "cell_type": "markdown",
   "id": "cd4532b9-11df-4e93-8abb-cb0558ca161c",
   "metadata": {},
   "source": [
    "## ⏰ Game 4: Alarm Clock Simulator\n",
    "\n",
    "**Rules**\n",
    "- The game continuously accepts input using a  while loop.\n",
    "- You can set an alarm time using the set command.\n",
    "- If the alarm is already set, it must be canceled before setting a new one.\n",
    "- You can check the status of the alarm using the status command.\n",
    "- You can cancel an existing alarm using the cancel command.\n",
    "- Use help to see the list of available commands.\n",
    "- Use quit to exit the game.\n",
    "- Any invalid input will return an error message.\n"
   ]
  },
  {
   "cell_type": "code",
   "execution_count": 69,
   "id": "08826303-1b8a-4dae-9900-275a2d06c91c",
   "metadata": {},
   "outputs": [
    {
     "name": "stdin",
     "output_type": "stream",
     "text": [
      "> set\n",
      "Enter alarm time (e.g., 7:00):  7:00\n"
     ]
    },
    {
     "name": "stdout",
     "output_type": "stream",
     "text": [
      "The alarm is set to 7:00\n"
     ]
    },
    {
     "name": "stdin",
     "output_type": "stream",
     "text": [
      "> cancel\n"
     ]
    },
    {
     "name": "stdout",
     "output_type": "stream",
     "text": [
      "Alarm for 7:00 cancelled.\n"
     ]
    },
    {
     "name": "stdin",
     "output_type": "stream",
     "text": [
      "> status\n"
     ]
    },
    {
     "name": "stdout",
     "output_type": "stream",
     "text": [
      "No alarm is currently set.\n"
     ]
    },
    {
     "name": "stdin",
     "output_type": "stream",
     "text": [
      "> quit\n"
     ]
    }
   ],
   "source": [
    "command = \"\"\n",
    "alarm_time = \"\"\n",
    "alarm_status = False\n",
    "while True:\n",
    "    command = input(\">\").lower()\n",
    "    if command == \"set\":\n",
    "        if alarm_status:\n",
    "            print(f'The alarm is already set for {alarm_time}. Cancel it first to set a new one.')\n",
    "        else:\n",
    "            alarm_time = input(\"Enter alarm time (e.g., 7:00): \")\n",
    "            alarm_status = True\n",
    "            print(f'The alarm is set to {alarm_time}')\n",
    "    elif command == \"status\":\n",
    "        if alarm_status:\n",
    "            print(f'The alarm is set for {alarm_time}')\n",
    "        else:\n",
    "            print(\"No alarm is currently set.\")\n",
    "    elif command == \"help\":\n",
    "        print(\"\"\"\n",
    "set - To set the alarm time (eg 7:00)\n",
    "status - To check if the alarm is set or not\n",
    "cancel - To cancel the alarm\n",
    "quit - to exit the game\n",
    "\"\"\")\n",
    "    elif command == \"cancel\":\n",
    "        if alarm_status:\n",
    "            print(f'Alarm for {alarm_time} cancelled.')\n",
    "            alarm_status = False\n",
    "            alarm_time = \"\"\n",
    "        else:\n",
    "             print(\"There is no alarm to cancel.\")\n",
    "    elif command == \"quit\":\n",
    "        break\n",
    "    else:\n",
    "        print(\"Invalid command. Type 'help' for a list of commands.\")\n",
    "    \n",
    " \n",
    "    "
   ]
  },
  {
   "cell_type": "markdown",
   "id": "60124b8a-8e74-481d-8e7f-6232633e24ed",
   "metadata": {},
   "source": [
    "## 🗳️ Game 5: Voting Simulator\n",
    "\n",
    "**Rules**\n",
    "- The voting process continues until the user types `end`.\n",
    "- Valid candidates are:\n",
    "   - Sajjan\n",
    "   - Bob\n",
    "   - Charlie\n",
    "- Each vote must be typed exactly as one of the candidate names (case-insensitive).\n",
    "- Invalid votes are ignored with a warning.\n",
    "- After voting ends, the vote count for each candidate is displayed.\n"
   ]
  },
  {
   "cell_type": "code",
   "execution_count": 85,
   "id": "b11ca797-d801-4cb2-9ca1-6c2b78318438",
   "metadata": {},
   "outputs": [
    {
     "name": "stdout",
     "output_type": "stream",
     "text": [
      "\n",
      "welcome to the voting simulator.\n",
      "vote for: Sajjan, Bob, Charlie\n",
      "Type 'end' to finish the vote and to know the Election results.\n",
      "\n"
     ]
    },
    {
     "name": "stdin",
     "output_type": "stream",
     "text": [
      "Enter your vote:  sajjan\n",
      "Enter your vote:  grsg\n"
     ]
    },
    {
     "name": "stdout",
     "output_type": "stream",
     "text": [
      "Invalid vote. Please vote for Sajjan, Bob, or Charlie.\n"
     ]
    },
    {
     "name": "stdin",
     "output_type": "stream",
     "text": [
      "Enter your vote:  sajjan\n",
      "Enter your vote:  sajjan\n",
      "Enter your vote:  bob\n",
      "Enter your vote:  end\n"
     ]
    },
    {
     "name": "stdout",
     "output_type": "stream",
     "text": [
      " sajjan 3 votes, bob 1 votes, charlie 0 votes\n"
     ]
    }
   ],
   "source": [
    "print(\"\"\"\n",
    "welcome to the voting simulator.\n",
    "vote for: Sajjan, Bob, Charlie\n",
    "Type 'end' to finish the vote and to know the Election results.\n",
    "\"\"\")\n",
    "sajjan = 0\n",
    "bob = 0\n",
    "charlie = 0\n",
    "\n",
    "while True:\n",
    "    vote = input(\"Enter your vote: \").lower()\n",
    "    if vote == \"sajjan\":\n",
    "        sajjan += 1\n",
    "    elif vote == \"bob\":\n",
    "        bob += 1\n",
    "    elif vote == \"charlie\":\n",
    "        charlie += 1\n",
    "    elif vote == \"end\":\n",
    "        print(f' sajjan {sajjan} votes, bob {bob} votes, charlie {charlie} votes')\n",
    "        break\n",
    "    else:\n",
    "        print(\"Invalid vote. Please vote for Sajjan, Bob, or Charlie.\")"
   ]
  }
 ],
 "metadata": {
  "kernelspec": {
   "display_name": "Python [conda env:base] *",
   "language": "python",
   "name": "conda-base-py"
  },
  "language_info": {
   "codemirror_mode": {
    "name": "ipython",
    "version": 3
   },
   "file_extension": ".py",
   "mimetype": "text/x-python",
   "name": "python",
   "nbconvert_exporter": "python",
   "pygments_lexer": "ipython3",
   "version": "3.12.7"
  }
 },
 "nbformat": 4,
 "nbformat_minor": 5
}
